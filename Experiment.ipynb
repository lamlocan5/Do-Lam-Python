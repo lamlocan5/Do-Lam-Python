{
 "cells": [
  {
   "cell_type": "code",
   "execution_count": 1,
   "metadata": {},
   "outputs": [
    {
     "name": "stdout",
     "output_type": "stream",
     "text": [
      "1511\n"
     ]
    }
   ],
   "source": [
    "import json,os\n",
    "\n",
    "with open(\"APKPermissions.json\",'r') as f:\n",
    "    data = json.load(f)\n",
    "\n",
    "print(len(data))"
   ]
  },
  {
   "cell_type": "code",
   "execution_count": 7,
   "metadata": {},
   "outputs": [
    {
     "data": {
      "text/plain": [
       "{'apk_path': '/home/iec/HaiLam/DoLam/Adware/fd512110cc32a49aedd39d4ea4b01e772b119f1c67bab4543263fa8de9a433f0.9bf5b237f86629dad5c22f7222be81ff',\n",
       " 'permissions': ['android.permission.SYSTEM_ALERT_WINDOW',\n",
       "  'android.permission.WRITE_EXTERNAL_STORAGE',\n",
       "  'com.android.launcher.permission.INSTALL_SHORTCUT',\n",
       "  'android.permission.INTERNAL_SYSTEM_WINDOW',\n",
       "  'android.permission.ACCESS_WIFI_STATE',\n",
       "  'android.permission.GET_TASKS',\n",
       "  'android.permission.ACCESS_NETWORK_STATE',\n",
       "  'android.permission.READ_PHONE_STATE',\n",
       "  'android.permission.INTERNET'],\n",
       " 'normalized_sentence': 'android.permission.SYSTEM_ALERT_WINDOW android.permission.WRITE_EXTERNAL_STORAGE com.android.launcher.permission.INSTALL_SHORTCUT android.permission.INTERNAL_SYSTEM_WINDOW android.permission.ACCESS_WIFI_STATE android.permission.GET_TASKS android.permission.ACCESS_NETWORK_STATE android.permission.READ_PHONE_STATE android.permission.INTERNET'}"
      ]
     },
     "execution_count": 7,
     "metadata": {},
     "output_type": "execute_result"
    }
   ],
   "source": [
    "data[1]"
   ]
  }
 ],
 "metadata": {
  "kernelspec": {
   "display_name": "agent",
   "language": "python",
   "name": "python3"
  },
  "language_info": {
   "codemirror_mode": {
    "name": "ipython",
    "version": 3
   },
   "file_extension": ".py",
   "mimetype": "text/x-python",
   "name": "python",
   "nbconvert_exporter": "python",
   "pygments_lexer": "ipython3",
   "version": "3.10.15"
  }
 },
 "nbformat": 4,
 "nbformat_minor": 2
}
